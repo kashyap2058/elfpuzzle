{
 "cells": [
  {
   "cell_type": "code",
   "execution_count": 12,
   "id": "4b00b609",
   "metadata": {},
   "outputs": [
    {
     "name": "stdout",
     "output_type": "stream",
     "text": [
      "The sum of priorities of common item is 7811\n",
      "The sum of priorities of common items in groups of 3 elves are 2639\n"
     ]
    }
   ],
   "source": [
    "data=open(\"input3.txt\",'r')\n",
    "inpuT=data.read()\n",
    "l=inpuT.split(\"\\n\")\n",
    "\n",
    "priority={\n",
    "    'a':1,'b':2,'c':3,'d':4,'e':5,'f':6,'g':7,'h':8,'i':9,'j':10,'k':11,'l':12,'m':13,'n':14,'o':15,'p':16,'q':17,'r':18,'s':19,'t':20,'u':21,'v':22,'w':23,'x':24,'y':25,'z':26,\n",
    "    'A': 27,\n",
    "    'B': 28,\n",
    "    'C': 29,\n",
    "    'D': 30,\n",
    "    'E': 31,\n",
    "    'F': 32,\n",
    "    'G': 33,\n",
    "    'H': 34,\n",
    "    'I': 35,\n",
    "    'J': 36,\n",
    "    'K': 37,\n",
    "    'L': 38,\n",
    "    'M': 39,\n",
    "    'N': 40,\n",
    "    'O': 41,\n",
    "    'P': 42,\n",
    "    'Q': 43,\n",
    "    'R': 44,\n",
    "    'S': 45,\n",
    "    'T': 46,\n",
    "    'U': 47,\n",
    "    'V': 48,\n",
    "    'W': 49,\n",
    "    'X': 50,\n",
    "    'Y': 51,\n",
    "    'Z': 52\n",
    "}\n",
    "SUM=0\n",
    "# print(l)\n",
    "for i in l:\n",
    "    rucksack1=i[0:((len(i)//2))]\n",
    "    rucksack2=i[((len(i)//2)):len(i)]\n",
    "    word=str()\n",
    "    for w in set(rucksack1):\n",
    "        if w in rucksack2:\n",
    "            word=w\n",
    "#     print(word)\n",
    "#     break\n",
    "    SUM+=priority[word]\n",
    "\n",
    "print(\"The sum of priorities of common item is\",SUM)\n",
    "add=0\n",
    "#problem 2:\n",
    "for i in range(0,len(l),3):\n",
    "    if (i+2)<=len(l)-1:\n",
    "        element1=l[i]\n",
    "        element2=l[i+1]\n",
    "        element3=l[i+2]\n",
    "#         print(element1,element2,element3)\n",
    "        c = set(element1) & set(element2) & set(element3)\n",
    "        for a in c:\n",
    "            add+=priority[a]\n",
    "print(\"The sum of priorities of common items in groups of 3 elves are\",add)"
   ]
  },
  {
   "cell_type": "code",
   "execution_count": null,
   "id": "7b13983f",
   "metadata": {},
   "outputs": [],
   "source": []
  }
 ],
 "metadata": {
  "kernelspec": {
   "display_name": "Python 3 (ipykernel)",
   "language": "python",
   "name": "python3"
  },
  "language_info": {
   "codemirror_mode": {
    "name": "ipython",
    "version": 3
   },
   "file_extension": ".py",
   "mimetype": "text/x-python",
   "name": "python",
   "nbconvert_exporter": "python",
   "pygments_lexer": "ipython3",
   "version": "3.10.9"
  }
 },
 "nbformat": 4,
 "nbformat_minor": 5
}
