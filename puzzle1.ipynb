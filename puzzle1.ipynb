{
 "cells": [
  {
   "cell_type": "code",
   "execution_count": 14,
   "id": "6d520791",
   "metadata": {},
   "outputs": [
    {
     "name": "stdout",
     "output_type": "stream",
     "text": [
      "The elf having food with maximum calorie is elf 18 and the maximum calorie it is carrying is 72602\n"
     ]
    }
   ],
   "source": [
    "data = open(\"input.txt\",'r')\n",
    "inpuT=data.read()\n",
    "# print(inpuT)\n",
    "l= inpuT.split(\"\\n\")\n",
    "oplist=[]\n",
    "Sum=0\n",
    "# print(l)\n",
    "for i in l:\n",
    "    if i!='':\n",
    "        a=int(i)\n",
    "        Sum+=a\n",
    "    else:\n",
    "        oplist.insert(-1,Sum)\n",
    "        Sum=0\n",
    "oplist.reverse()\n",
    "# print(oplist)\n",
    "elf = oplist.index(max(oplist))+1  #elf ko index chai 1 bata start vako assume garyo vane\n",
    "print(\"The elf having food with maximum calorie is elf\",elf,\"and the maximum calorie it is carrying is\",max(oplist))  \n",
    "oplist.sort()",
    "oplist.reverse()",
    "total=oplist[0]+oplist[1]+oplist[2]",
    "print(\"The total calorie carried by the top three elves is\",total)  \n"
   ]
  },
  {
   "cell_type": "code",
   "execution_count": null,
   "id": "ab906263",
   "metadata": {},
   "outputs": [],
   "source": []
  }
 ],
 "metadata": {
  "kernelspec": {
   "display_name": "Python 3 (ipykernel)",
   "language": "python",
   "name": "python3"
  },
  "language_info": {
   "codemirror_mode": {
    "name": "ipython",
    "version": 3
   },
   "file_extension": ".py",
   "mimetype": "text/x-python",
   "name": "python",
   "nbconvert_exporter": "python",
   "pygments_lexer": "ipython3",
   "version": "3.10.9"
  }
 },
 "nbformat": 4,
 "nbformat_minor": 5
}
